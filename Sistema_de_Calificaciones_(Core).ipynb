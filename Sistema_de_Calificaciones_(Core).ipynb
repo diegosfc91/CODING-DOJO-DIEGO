{
  "nbformat": 4,
  "nbformat_minor": 0,
  "metadata": {
    "colab": {
      "provenance": [],
      "authorship_tag": "ABX9TyNKVVwKWUMIfX80y6vPS87q",
      "include_colab_link": true
    },
    "kernelspec": {
      "name": "python3",
      "display_name": "Python 3"
    },
    "language_info": {
      "name": "python"
    }
  },
  "cells": [
    {
      "cell_type": "markdown",
      "metadata": {
        "id": "view-in-github",
        "colab_type": "text"
      },
      "source": [
        "<a href=\"https://colab.research.google.com/github/diegosfc91/CODING-DOJO-DIEGO/blob/main/Sistema_de_Calificaciones_(Core).ipynb\" target=\"_parent\"><img src=\"https://colab.research.google.com/assets/colab-badge.svg\" alt=\"Open In Colab\"/></a>"
      ]
    },
    {
      "cell_type": "markdown",
      "source": [
        "## Sistema de calificaciones"
      ],
      "metadata": {
        "id": "_RGjXxnvMijU"
      }
    },
    {
      "cell_type": "code",
      "execution_count": null,
      "metadata": {
        "colab": {
          "base_uri": "https://localhost:8080/",
          "height": 356
        },
        "id": "g25Md94fMQRl",
        "outputId": "4cdc13ae-19a0-403d-99d6-25e1b495d40f"
      },
      "outputs": [
        {
          "output_type": "stream",
          "name": "stdout",
          "text": [
            "Ingrese el número de estudiantes: lor\n",
            "Valor no válido. Por favor, ingrese un número entero.\n"
          ]
        },
        {
          "output_type": "error",
          "ename": "KeyboardInterrupt",
          "evalue": "Interrupted by user",
          "traceback": [
            "\u001b[0;31m---------------------------------------------------------------------------\u001b[0m",
            "\u001b[0;31mKeyboardInterrupt\u001b[0m                         Traceback (most recent call last)",
            "\u001b[0;32m<ipython-input-2-d7cd740bf654>\u001b[0m in \u001b[0;36m<cell line: 89>\u001b[0;34m()\u001b[0m\n\u001b[1;32m     88\u001b[0m \u001b[0;31m# Ejecutar el programa principal\u001b[0m\u001b[0;34m\u001b[0m\u001b[0;34m\u001b[0m\u001b[0m\n\u001b[1;32m     89\u001b[0m \u001b[0;32mif\u001b[0m \u001b[0m__name__\u001b[0m \u001b[0;34m==\u001b[0m \u001b[0;34m\"__main__\"\u001b[0m\u001b[0;34m:\u001b[0m\u001b[0;34m\u001b[0m\u001b[0;34m\u001b[0m\u001b[0m\n\u001b[0;32m---> 90\u001b[0;31m     \u001b[0mmain\u001b[0m\u001b[0;34m(\u001b[0m\u001b[0;34m)\u001b[0m\u001b[0;34m\u001b[0m\u001b[0;34m\u001b[0m\u001b[0m\n\u001b[0m",
            "\u001b[0;32m<ipython-input-2-d7cd740bf654>\u001b[0m in \u001b[0;36mmain\u001b[0;34m()\u001b[0m\n\u001b[1;32m     68\u001b[0m \u001b[0;31m# Programa principal\u001b[0m\u001b[0;34m\u001b[0m\u001b[0;34m\u001b[0m\u001b[0m\n\u001b[1;32m     69\u001b[0m \u001b[0;32mdef\u001b[0m \u001b[0mmain\u001b[0m\u001b[0;34m(\u001b[0m\u001b[0;34m)\u001b[0m\u001b[0;34m:\u001b[0m\u001b[0;34m\u001b[0m\u001b[0;34m\u001b[0m\u001b[0m\n\u001b[0;32m---> 70\u001b[0;31m     \u001b[0mnum_estudiantes\u001b[0m \u001b[0;34m=\u001b[0m \u001b[0mobtener_numero_estudiantes\u001b[0m\u001b[0;34m(\u001b[0m\u001b[0;34m)\u001b[0m\u001b[0;34m\u001b[0m\u001b[0;34m\u001b[0m\u001b[0m\n\u001b[0m\u001b[1;32m     71\u001b[0m     \u001b[0mestudiantes\u001b[0m \u001b[0;34m=\u001b[0m \u001b[0;34m[\u001b[0m\u001b[0;34m]\u001b[0m\u001b[0;34m\u001b[0m\u001b[0;34m\u001b[0m\u001b[0m\n\u001b[1;32m     72\u001b[0m \u001b[0;34m\u001b[0m\u001b[0m\n",
            "\u001b[0;32m<ipython-input-2-d7cd740bf654>\u001b[0m in \u001b[0;36mobtener_numero_estudiantes\u001b[0;34m()\u001b[0m\n\u001b[1;32m      3\u001b[0m     \u001b[0;32mwhile\u001b[0m \u001b[0;32mTrue\u001b[0m\u001b[0;34m:\u001b[0m\u001b[0;34m\u001b[0m\u001b[0;34m\u001b[0m\u001b[0m\n\u001b[1;32m      4\u001b[0m         \u001b[0;32mtry\u001b[0m\u001b[0;34m:\u001b[0m\u001b[0;34m\u001b[0m\u001b[0;34m\u001b[0m\u001b[0m\n\u001b[0;32m----> 5\u001b[0;31m             \u001b[0mnum_estudiantes\u001b[0m \u001b[0;34m=\u001b[0m \u001b[0mint\u001b[0m\u001b[0;34m(\u001b[0m\u001b[0minput\u001b[0m\u001b[0;34m(\u001b[0m\u001b[0;34m\"Ingrese el número de estudiantes: \"\u001b[0m\u001b[0;34m)\u001b[0m\u001b[0;34m)\u001b[0m\u001b[0;34m\u001b[0m\u001b[0;34m\u001b[0m\u001b[0m\n\u001b[0m\u001b[1;32m      6\u001b[0m             \u001b[0;32mif\u001b[0m \u001b[0mnum_estudiantes\u001b[0m \u001b[0;34m>\u001b[0m \u001b[0;36m0\u001b[0m\u001b[0;34m:\u001b[0m\u001b[0;34m\u001b[0m\u001b[0;34m\u001b[0m\u001b[0m\n\u001b[1;32m      7\u001b[0m                 \u001b[0;32mreturn\u001b[0m \u001b[0mnum_estudiantes\u001b[0m\u001b[0;34m\u001b[0m\u001b[0;34m\u001b[0m\u001b[0m\n",
            "\u001b[0;32m/usr/local/lib/python3.10/dist-packages/ipykernel/kernelbase.py\u001b[0m in \u001b[0;36mraw_input\u001b[0;34m(self, prompt)\u001b[0m\n\u001b[1;32m    849\u001b[0m                 \u001b[0;34m\"raw_input was called, but this frontend does not support input requests.\"\u001b[0m\u001b[0;34m\u001b[0m\u001b[0;34m\u001b[0m\u001b[0m\n\u001b[1;32m    850\u001b[0m             )\n\u001b[0;32m--> 851\u001b[0;31m         return self._input_request(str(prompt),\n\u001b[0m\u001b[1;32m    852\u001b[0m             \u001b[0mself\u001b[0m\u001b[0;34m.\u001b[0m\u001b[0m_parent_ident\u001b[0m\u001b[0;34m,\u001b[0m\u001b[0;34m\u001b[0m\u001b[0;34m\u001b[0m\u001b[0m\n\u001b[1;32m    853\u001b[0m             \u001b[0mself\u001b[0m\u001b[0;34m.\u001b[0m\u001b[0m_parent_header\u001b[0m\u001b[0;34m,\u001b[0m\u001b[0;34m\u001b[0m\u001b[0;34m\u001b[0m\u001b[0m\n",
            "\u001b[0;32m/usr/local/lib/python3.10/dist-packages/ipykernel/kernelbase.py\u001b[0m in \u001b[0;36m_input_request\u001b[0;34m(self, prompt, ident, parent, password)\u001b[0m\n\u001b[1;32m    893\u001b[0m             \u001b[0;32mexcept\u001b[0m \u001b[0mKeyboardInterrupt\u001b[0m\u001b[0;34m:\u001b[0m\u001b[0;34m\u001b[0m\u001b[0;34m\u001b[0m\u001b[0m\n\u001b[1;32m    894\u001b[0m                 \u001b[0;31m# re-raise KeyboardInterrupt, to truncate traceback\u001b[0m\u001b[0;34m\u001b[0m\u001b[0;34m\u001b[0m\u001b[0m\n\u001b[0;32m--> 895\u001b[0;31m                 \u001b[0;32mraise\u001b[0m \u001b[0mKeyboardInterrupt\u001b[0m\u001b[0;34m(\u001b[0m\u001b[0;34m\"Interrupted by user\"\u001b[0m\u001b[0;34m)\u001b[0m \u001b[0;32mfrom\u001b[0m \u001b[0;32mNone\u001b[0m\u001b[0;34m\u001b[0m\u001b[0;34m\u001b[0m\u001b[0m\n\u001b[0m\u001b[1;32m    896\u001b[0m             \u001b[0;32mexcept\u001b[0m \u001b[0mException\u001b[0m \u001b[0;32mas\u001b[0m \u001b[0me\u001b[0m\u001b[0;34m:\u001b[0m\u001b[0;34m\u001b[0m\u001b[0;34m\u001b[0m\u001b[0m\n\u001b[1;32m    897\u001b[0m                 \u001b[0mself\u001b[0m\u001b[0;34m.\u001b[0m\u001b[0mlog\u001b[0m\u001b[0;34m.\u001b[0m\u001b[0mwarning\u001b[0m\u001b[0;34m(\u001b[0m\u001b[0;34m\"Invalid Message:\"\u001b[0m\u001b[0;34m,\u001b[0m \u001b[0mexc_info\u001b[0m\u001b[0;34m=\u001b[0m\u001b[0;32mTrue\u001b[0m\u001b[0;34m)\u001b[0m\u001b[0;34m\u001b[0m\u001b[0;34m\u001b[0m\u001b[0m\n",
            "\u001b[0;31mKeyboardInterrupt\u001b[0m: Interrupted by user"
          ]
        }
      ],
      "source": [
        "def obtener_numero_estudiantes():\n",
        "    \"\"\"Pide al usuario el número de estudiantes y devuelve el valor.\"\"\"\n",
        "    while True:\n",
        "        try:\n",
        "            num_estudiantes = int(input(\"Ingrese el número de estudiantes: \"))\n",
        "            if num_estudiantes > 0:\n",
        "                return num_estudiantes\n",
        "            else:\n",
        "                print(\"Por favor, ingrese un número positivo.\")\n",
        "        except ValueError:\n",
        "            print(\"Valor no válido. Por favor, ingrese un número entero.\")\n",
        "\n",
        "def obtener_nombre_estudiante():\n",
        "    \"\"\"Pide al usuario el nombre del estudiante y devuelve el valor.\"\"\"\n",
        "    while True:\n",
        "        nombre = input(\"Ingrese el nombre del estudiante: \").strip()\n",
        "        if nombre:\n",
        "            return nombre\n",
        "        else:\n",
        "            print(\"El nombre no puede estar vacío. Intente de nuevo.\")\n",
        "\n",
        "def obtener_numero_asignaturas():\n",
        "    \"\"\"Pide al usuario el número de asignaturas y devuelve el valor.\"\"\"\n",
        "    while True:\n",
        "        try:\n",
        "            num_asignaturas = int(input(\"Ingrese el número de asignaturas: \"))\n",
        "            if num_asignaturas > 0:\n",
        "                return num_asignaturas\n",
        "            else:\n",
        "                print(\"Por favor, ingrese un número positivo.\")\n",
        "        except ValueError:\n",
        "            print(\"Valor no válido. Por favor, ingrese un número entero.\")\n",
        "\n",
        "def obtener_calificaciones(num_asignaturas):\n",
        "    \"\"\"Pide al usuario las calificaciones para cada asignatura y las devuelve en una lista.\"\"\"\n",
        "    calificaciones = []\n",
        "    for i in range(num_asignaturas):\n",
        "        while True:\n",
        "            try:\n",
        "                calificacion = float(input(f\"Ingrese la calificación para la asignatura {i+1}: \"))\n",
        "                if 0 <= calificacion <= 10:\n",
        "                    calificaciones.append(calificacion)\n",
        "                    break\n",
        "                else:\n",
        "                    print(\"La calificación debe estar entre 0 y 10. Intente de nuevo.\")\n",
        "            except ValueError:\n",
        "                print(\"Valor no válido. Por favor, ingrese un número.\")\n",
        "    return calificaciones\n",
        "\n",
        "def calcular_promedio(calificaciones):\n",
        "    \"\"\"Calcula y devuelve el promedio de las calificaciones.\"\"\"\n",
        "    return sum(calificaciones) / len(calificaciones)\n",
        "\n",
        "def determinar_estado(promedio):\n",
        "    \"\"\"Determina si el estudiante ha aprobado o reprobado basándose en el promedio.\"\"\"\n",
        "    return \"Aprobado\" if promedio >= 6.0 else \"Reprobado\"\n",
        "\n",
        "def imprimir_resumen(estudiantes):\n",
        "    \"\"\"Imprime un resumen con el nombre de los estudiantes, su promedio y su estado.\"\"\"\n",
        "    print(\"\\nResumen de Calificaciones:\")\n",
        "    print(\"---------------------------------------------------\")\n",
        "    for estudiante in estudiantes:\n",
        "        print(f\"Nombre: {estudiante['nombre']}\")\n",
        "        print(f\"Promedio: {estudiante['promedio']:.2f}\")\n",
        "        print(f\"Estado: {estudiante['estado']}\")\n",
        "        print(\"---------------------------------------------------\")\n",
        "\n",
        "# Programa principal\n",
        "def main():\n",
        "    num_estudiantes = obtener_numero_estudiantes()\n",
        "    estudiantes = []\n",
        "\n",
        "    for _ in range(num_estudiantes):\n",
        "        nombre = obtener_nombre_estudiante()\n",
        "        num_asignaturas = obtener_numero_asignaturas()\n",
        "        calificaciones = obtener_calificaciones(num_asignaturas)\n",
        "        promedio = calcular_promedio(calificaciones)\n",
        "        estado = determinar_estado(promedio)\n",
        "\n",
        "        estudiantes.append({\n",
        "            'nombre': nombre,\n",
        "            'promedio': promedio,\n",
        "            'estado': estado\n",
        "        })\n",
        "\n",
        "    imprimir_resumen(estudiantes)\n",
        "\n",
        "# Ejecutar el programa principal\n",
        "if __name__ == \"__main__\":\n",
        "    main()\n"
      ]
    }
  ]
}