{
  "nbformat": 4,
  "nbformat_minor": 0,
  "metadata": {
    "colab": {
      "provenance": [],
      "authorship_tag": "ABX9TyOI8Tti/dvlFxUno29NSA2p",
      "include_colab_link": true
    },
    "kernelspec": {
      "name": "python3",
      "display_name": "Python 3"
    },
    "language_info": {
      "name": "python"
    }
  },
  "cells": [
    {
      "cell_type": "markdown",
      "metadata": {
        "id": "view-in-github",
        "colab_type": "text"
      },
      "source": [
        "<a href=\"https://colab.research.google.com/github/diegosfc91/CODING-DOJO-DIEGO/blob/main/Analsis_de_datos_con_Pandas_(Core).ipynb\" target=\"_parent\"><img src=\"https://colab.research.google.com/assets/colab-badge.svg\" alt=\"Open In Colab\"/></a>"
      ]
    },
    {
      "cell_type": "markdown",
      "source": [
        "# 2. Cargar los Datos"
      ],
      "metadata": {
        "id": "oZv2rrx36zPV"
      }
    },
    {
      "cell_type": "code",
      "source": [
        "\n",
        "import pandas as pd\n",
        "\n",
        "# Cargar datos desde un archivo CSV\n",
        "df = pd.read_csv('/content/vgsales.csv')\n",
        "\n",
        "# Ver las primeras y últimas filas del DataFrame\n",
        "print(\"Primeras filas del DataFrame:\")\n",
        "print(df.head(10))\n"
      ],
      "metadata": {
        "colab": {
          "base_uri": "https://localhost:8080/"
        },
        "id": "OMHeFmPq7nSd",
        "outputId": "2c3034d4-5b2a-42c7-a34f-7d69f96bc81f"
      },
      "execution_count": 6,
      "outputs": [
        {
          "output_type": "stream",
          "name": "stdout",
          "text": [
            "Primeras filas del DataFrame:\n",
            "   Rank                       Name Platform    Year         Genre Publisher  \\\n",
            "0     1                 Wii Sports      Wii  2006.0        Sports  Nintendo   \n",
            "1     2          Super Mario Bros.      NES  1985.0      Platform  Nintendo   \n",
            "2     3             Mario Kart Wii      Wii  2008.0        Racing  Nintendo   \n",
            "3     4          Wii Sports Resort      Wii  2009.0        Sports  Nintendo   \n",
            "4     5   Pokemon Red/Pokemon Blue       GB  1996.0  Role-Playing  Nintendo   \n",
            "5     6                     Tetris       GB  1989.0        Puzzle  Nintendo   \n",
            "6     7      New Super Mario Bros.       DS  2006.0      Platform  Nintendo   \n",
            "7     8                   Wii Play      Wii  2006.0          Misc  Nintendo   \n",
            "8     9  New Super Mario Bros. Wii      Wii  2009.0      Platform  Nintendo   \n",
            "9    10                  Duck Hunt      NES  1984.0       Shooter  Nintendo   \n",
            "\n",
            "   NA_Sales  EU_Sales  JP_Sales  Other_Sales  Global_Sales  \n",
            "0     41.49     29.02      3.77         8.46         82.74  \n",
            "1     29.08      3.58      6.81         0.77         40.24  \n",
            "2     15.85     12.88      3.79         3.31         35.82  \n",
            "3     15.75     11.01      3.28         2.96         33.00  \n",
            "4     11.27      8.89     10.22         1.00         31.37  \n",
            "5     23.20      2.26      4.22         0.58         30.26  \n",
            "6     11.38      9.23      6.50         2.90         30.01  \n",
            "7     14.03      9.20      2.93         2.85         29.02  \n",
            "8     14.59      7.06      4.70         2.26         28.62  \n",
            "9     26.93      0.63      0.28         0.47         28.31  \n"
          ]
        }
      ]
    },
    {
      "cell_type": "markdown",
      "source": [
        "# 3. Exploración Inicial de los Datos\n"
      ],
      "metadata": {
        "id": "giu1nfls8sdX"
      }
    },
    {
      "cell_type": "code",
      "source": [
        "# Imprimir las ultimas 5 filas\n",
        "print(\"Últimas filas del DataFrame:\")\n",
        "print(df.tail(5))\n",
        "\n",
        "# Obtener información general sobre el DataFrame\n",
        "print(\"Información del DataFrame:\")\n",
        "print(df.info())\n",
        "\n",
        "# Generar estadísticas descriptivas\n",
        "print(\"Estadísticas descriptivas del DataFrame:\")\n",
        "print(df.describe())"
      ],
      "metadata": {
        "colab": {
          "base_uri": "https://localhost:8080/"
        },
        "id": "pI_Co5oJ8u5Y",
        "outputId": "e0049169-c666-40b9-8195-6c14270f234a"
      },
      "execution_count": 7,
      "outputs": [
        {
          "output_type": "stream",
          "name": "stdout",
          "text": [
            "Últimas filas del DataFrame:\n",
            "        Rank                                              Name Platform  \\\n",
            "16593  16596                Woody Woodpecker in Crazy Castle 5      GBA   \n",
            "16594  16597                     Men in Black II: Alien Escape       GC   \n",
            "16595  16598  SCORE International Baja 1000: The Official Game      PS2   \n",
            "16596  16599                                        Know How 2       DS   \n",
            "16597  16600                                  Spirits & Spells      GBA   \n",
            "\n",
            "         Year     Genre   Publisher  NA_Sales  EU_Sales  JP_Sales  \\\n",
            "16593  2002.0  Platform       Kemco      0.01      0.00       0.0   \n",
            "16594  2003.0   Shooter  Infogrames      0.01      0.00       0.0   \n",
            "16595  2008.0    Racing  Activision      0.00      0.00       0.0   \n",
            "16596  2010.0    Puzzle    7G//AMES      0.00      0.01       0.0   \n",
            "16597  2003.0  Platform     Wanadoo      0.01      0.00       0.0   \n",
            "\n",
            "       Other_Sales  Global_Sales  \n",
            "16593          0.0          0.01  \n",
            "16594          0.0          0.01  \n",
            "16595          0.0          0.01  \n",
            "16596          0.0          0.01  \n",
            "16597          0.0          0.01  \n",
            "Información del DataFrame:\n",
            "<class 'pandas.core.frame.DataFrame'>\n",
            "RangeIndex: 16598 entries, 0 to 16597\n",
            "Data columns (total 11 columns):\n",
            " #   Column        Non-Null Count  Dtype  \n",
            "---  ------        --------------  -----  \n",
            " 0   Rank          16598 non-null  int64  \n",
            " 1   Name          16598 non-null  object \n",
            " 2   Platform      16598 non-null  object \n",
            " 3   Year          16327 non-null  float64\n",
            " 4   Genre         16598 non-null  object \n",
            " 5   Publisher     16540 non-null  object \n",
            " 6   NA_Sales      16598 non-null  float64\n",
            " 7   EU_Sales      16598 non-null  float64\n",
            " 8   JP_Sales      16598 non-null  float64\n",
            " 9   Other_Sales   16598 non-null  float64\n",
            " 10  Global_Sales  16598 non-null  float64\n",
            "dtypes: float64(6), int64(1), object(4)\n",
            "memory usage: 1.4+ MB\n",
            "None\n",
            "Estadísticas descriptivas del DataFrame:\n",
            "               Rank          Year      NA_Sales      EU_Sales      JP_Sales  \\\n",
            "count  16598.000000  16327.000000  16598.000000  16598.000000  16598.000000   \n",
            "mean    8300.605254   2006.406443      0.264667      0.146652      0.077782   \n",
            "std     4791.853933      5.828981      0.816683      0.505351      0.309291   \n",
            "min        1.000000   1980.000000      0.000000      0.000000      0.000000   \n",
            "25%     4151.250000   2003.000000      0.000000      0.000000      0.000000   \n",
            "50%     8300.500000   2007.000000      0.080000      0.020000      0.000000   \n",
            "75%    12449.750000   2010.000000      0.240000      0.110000      0.040000   \n",
            "max    16600.000000   2020.000000     41.490000     29.020000     10.220000   \n",
            "\n",
            "        Other_Sales  Global_Sales  \n",
            "count  16598.000000  16598.000000  \n",
            "mean       0.048063      0.537441  \n",
            "std        0.188588      1.555028  \n",
            "min        0.000000      0.010000  \n",
            "25%        0.000000      0.060000  \n",
            "50%        0.010000      0.170000  \n",
            "75%        0.040000      0.470000  \n",
            "max       10.570000     82.740000  \n"
          ]
        }
      ]
    },
    {
      "cell_type": "markdown",
      "source": [
        "# 4. Inspección de los Datos"
      ],
      "metadata": {
        "id": "g8lYXym19XTh"
      }
    },
    {
      "cell_type": "code",
      "source": [
        "# Inspeccionar los tipos de datos de las columnas\n",
        "print(\"Tipos de datos de las columnas:\")\n",
        "print(df.dtypes)\n",
        "print(\"-----------------------------------------------------------------------\")\n",
        "\n",
        "# Contar los valores únicos en la columna 'Genre'\n",
        "print(\" Cantidad de valores únicos en la columna 'Genre':\")\n",
        "conteo_generos = df['Genre'].value_counts()\n",
        "print(conteo_generos)\n",
        "print(\"-----------------------------------------------------------------------\")\n",
        "\n",
        "# Obtener valores únicos en la columna Genre\n",
        "print(\"Valores únicos en la columna 'Genre':\")\n",
        "print(df['Genre'].unique())\n"
      ],
      "metadata": {
        "colab": {
          "base_uri": "https://localhost:8080/"
        },
        "id": "k0rZdN4o9bmb",
        "outputId": "201e5f34-7ff5-439a-86fa-3d10c574e8aa"
      },
      "execution_count": null,
      "outputs": [
        {
          "output_type": "stream",
          "name": "stdout",
          "text": [
            "Tipos de datos de las columnas:\n",
            "Rank              int64\n",
            "Name             object\n",
            "Platform         object\n",
            "Year            float64\n",
            "Genre            object\n",
            "Publisher        object\n",
            "NA_Sales        float64\n",
            "EU_Sales        float64\n",
            "JP_Sales        float64\n",
            "Other_Sales     float64\n",
            "Global_Sales    float64\n",
            "dtype: object\n",
            "-----------------------------------------------------------------------\n",
            " Cantidad de valores únicos en la columna 'Genre':\n",
            "Genre\n",
            "Action          3316\n",
            "Sports          2346\n",
            "Misc            1739\n",
            "Role-Playing    1488\n",
            "Shooter         1310\n",
            "Adventure       1286\n",
            "Racing          1249\n",
            "Platform         886\n",
            "Simulation       867\n",
            "Fighting         848\n",
            "Strategy         681\n",
            "Puzzle           582\n",
            "Name: count, dtype: int64\n",
            "-----------------------------------------------------------------------\n",
            "Valores únicos en la columna 'Genre':\n",
            "['Sports' 'Platform' 'Racing' 'Role-Playing' 'Puzzle' 'Misc' 'Shooter'\n",
            " 'Simulation' 'Action' 'Fighting' 'Adventure' 'Strategy']\n"
          ]
        }
      ]
    },
    {
      "cell_type": "markdown",
      "source": [
        "# 5. Filtrado de Datos"
      ],
      "metadata": {
        "id": "DQ7NJYq31xEl"
      }
    },
    {
      "cell_type": "code",
      "source": [
        "# Ventas en América del Norte (NA_Sales) sean mayores a 1 millón.\n",
        "\n",
        "filtro_NA = df['NA_Sales'] > 1\n",
        "# df[filtro_NA]\n",
        "\n",
        "# Ventas en Japón (JP_Sales) sean menores a 0.1 millón.\n",
        "\n",
        "filtro_JP = df['JP_Sales'] < 0.1\n",
        "# df[filtro_JP]\n",
        "\n",
        "# Filas donde el género sea Action y las ventas globales (Global_Sales) sean mayores a 2 millones.\n",
        "query_result = df.query('(Global_Sales > 2) & (Genre == \"Action\")')\n",
        "# print(query_result)\n"
      ],
      "metadata": {
        "id": "uZmyclWV2FSf"
      },
      "execution_count": 28,
      "outputs": []
    },
    {
      "cell_type": "markdown",
      "source": [
        "# 6. Slicing de Datos"
      ],
      "metadata": {
        "id": "-qB0ZLmz7B0Q"
      }
    },
    {
      "cell_type": "code",
      "source": [
        "# Selecciona y muestra solo las columnas Name y Global_Sales del DataFrame.\n",
        "column_selection = df[['Name', 'Global_Sales']]\n",
        "print(column_selection)\n",
        "\n",
        "# Filas de la 5 a la 10 (inclusive) y las columnas 'Name' y 'Genre' con loc[]\n",
        "rows_and_columns_loc = df.loc[5:10, ['Name', 'Genre']]\n",
        "print(rows_and_columns_loc)\n",
        "\n",
        "# Seleccionar las primeras 5 filas y las primeras 3 columnas con iloc[]\n",
        "rows_and_columns_iloc = df.iloc[:5, :3]\n",
        "print(rows_and_columns_iloc)\n"
      ],
      "metadata": {
        "colab": {
          "base_uri": "https://localhost:8080/"
        },
        "id": "beZ1D35L7IMI",
        "outputId": "31f95e2e-7a98-4d0e-a700-2e29463f758a"
      },
      "execution_count": 29,
      "outputs": [
        {
          "output_type": "stream",
          "name": "stdout",
          "text": [
            "                                                   Name  Global_Sales\n",
            "0                                            Wii Sports         82.74\n",
            "1                                     Super Mario Bros.         40.24\n",
            "2                                        Mario Kart Wii         35.82\n",
            "3                                     Wii Sports Resort         33.00\n",
            "4                              Pokemon Red/Pokemon Blue         31.37\n",
            "...                                                 ...           ...\n",
            "16593                Woody Woodpecker in Crazy Castle 5          0.01\n",
            "16594                     Men in Black II: Alien Escape          0.01\n",
            "16595  SCORE International Baja 1000: The Official Game          0.01\n",
            "16596                                        Know How 2          0.01\n",
            "16597                                  Spirits & Spells          0.01\n",
            "\n",
            "[16598 rows x 2 columns]\n",
            "                         Name       Genre\n",
            "5                      Tetris      Puzzle\n",
            "6       New Super Mario Bros.    Platform\n",
            "7                    Wii Play        Misc\n",
            "8   New Super Mario Bros. Wii    Platform\n",
            "9                   Duck Hunt     Shooter\n",
            "10                 Nintendogs  Simulation\n",
            "   Rank                      Name Platform\n",
            "0     1                Wii Sports      Wii\n",
            "1     2         Super Mario Bros.      NES\n",
            "2     3            Mario Kart Wii      Wii\n",
            "3     4         Wii Sports Resort      Wii\n",
            "4     5  Pokemon Red/Pokemon Blue       GB\n"
          ]
        }
      ]
    }
  ]
}